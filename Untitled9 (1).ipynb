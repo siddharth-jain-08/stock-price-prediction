{
 "cells": [
  {
   "cell_type": "markdown",
   "metadata": {},
   "source": [
    "## Candidate Name : Siddharth Jain"
   ]
  },
  {
   "cell_type": "markdown",
   "metadata": {},
   "source": [
    "## ASSIGNMENT - 7\n",
    "Stock Market Prediction using Numerical and Textual Analysis"
   ]
  },
  {
   "cell_type": "markdown",
   "metadata": {},
   "source": [
    "# Overview\n",
    "\n",
    "In this project instead of analysing and predicting the stock performance of an index(e.g. NIFTY or SENSEX) i tried analysing the stock price of one of the listed companies of NSE i.e. ONGC. I extracted the news data by scraping 'www.moneycontrol.com' using scrapy. The numerical data is obtained from a python library named nsepy.\n",
    "\n",
    "##Steps\n",
    "\n",
    "#loading stock data\n",
    "\n",
    "#exploratory data analysis of stock data \n",
    "\n",
    "#loading news data\n",
    "\n",
    "#determining sentiment of news headline\n",
    "\n",
    "#combining both the datasets\n",
    "\n",
    "#feature engineering \n",
    "\n",
    "#support vector  machine classifier(SVM)\n",
    "\n",
    "#hyperparameter tuning"
   ]
  },
  {
   "cell_type": "code",
   "execution_count": 96,
   "metadata": {},
   "outputs": [],
   "source": [
    "## necessary imports\n",
    "import pandas as pd\n",
    "import numpy as np\n",
    "from datetime import date\n",
    "import matplotlib.pyplot as plt\n",
    "import seaborn as sns\n",
    "%matplotlib inline\n",
    "\n",
    "## python library for gathering historical stock data\n",
    "from nsepy import get_history\n",
    "\n",
    "## library for importing scraped news data from PostgresSQL database\n",
    "import psycopg2\n",
    "import pandas.io.sql as psql\n",
    "\n",
    "##library for sentiment analysis \n",
    "from vaderSentiment.vaderSentiment import SentimentIntensityAnalyzer\n",
    "\n",
    "## model training and accuracy \n",
    "from sklearn.model_selection import train_test_split\n",
    "from sklearn.metrics import accuracy_score \n",
    "from sklearn.preprocessing import MinMaxScaler\n",
    "from sklearn.svm import SVC\n",
    "from sklearn.model_selection import GridSearchCV"
   ]
  },
  {
   "cell_type": "code",
   "execution_count": 97,
   "metadata": {},
   "outputs": [],
   "source": [
    "## extractig historical stock data from  01-01-2011 to 06-02-2021\n",
    "data_stock = get_history(symbol=\"ONGC\", start=date(2011,1,1), end=date(2021,2,6))\n",
    "\n",
    "data_stock = data_stock[['Open', 'Close', 'High', 'Low', 'Volume', 'Prev Close']]"
   ]
  },
  {
   "cell_type": "code",
   "execution_count": 98,
   "metadata": {},
   "outputs": [
    {
     "data": {
      "text/html": [
       "<div>\n",
       "<style scoped>\n",
       "    .dataframe tbody tr th:only-of-type {\n",
       "        vertical-align: middle;\n",
       "    }\n",
       "\n",
       "    .dataframe tbody tr th {\n",
       "        vertical-align: top;\n",
       "    }\n",
       "\n",
       "    .dataframe thead th {\n",
       "        text-align: right;\n",
       "    }\n",
       "</style>\n",
       "<table border=\"1\" class=\"dataframe\">\n",
       "  <thead>\n",
       "    <tr style=\"text-align: right;\">\n",
       "      <th></th>\n",
       "      <th>Open</th>\n",
       "      <th>Close</th>\n",
       "      <th>High</th>\n",
       "      <th>Low</th>\n",
       "      <th>Volume</th>\n",
       "      <th>Prev Close</th>\n",
       "    </tr>\n",
       "    <tr>\n",
       "      <th>Date</th>\n",
       "      <th></th>\n",
       "      <th></th>\n",
       "      <th></th>\n",
       "      <th></th>\n",
       "      <th></th>\n",
       "      <th></th>\n",
       "    </tr>\n",
       "  </thead>\n",
       "  <tbody>\n",
       "    <tr>\n",
       "      <th>2011-01-03</th>\n",
       "      <td>1304.00</td>\n",
       "      <td>1292.80</td>\n",
       "      <td>1304.0</td>\n",
       "      <td>1290.15</td>\n",
       "      <td>514373</td>\n",
       "      <td>1288.20</td>\n",
       "    </tr>\n",
       "    <tr>\n",
       "      <th>2011-01-04</th>\n",
       "      <td>1295.35</td>\n",
       "      <td>1287.05</td>\n",
       "      <td>1297.4</td>\n",
       "      <td>1284.05</td>\n",
       "      <td>762796</td>\n",
       "      <td>1292.80</td>\n",
       "    </tr>\n",
       "    <tr>\n",
       "      <th>2011-01-05</th>\n",
       "      <td>1288.90</td>\n",
       "      <td>1266.15</td>\n",
       "      <td>1288.9</td>\n",
       "      <td>1258.00</td>\n",
       "      <td>903513</td>\n",
       "      <td>1287.05</td>\n",
       "    </tr>\n",
       "    <tr>\n",
       "      <th>2011-01-06</th>\n",
       "      <td>1269.40</td>\n",
       "      <td>1227.30</td>\n",
       "      <td>1270.6</td>\n",
       "      <td>1216.50</td>\n",
       "      <td>1588307</td>\n",
       "      <td>1266.15</td>\n",
       "    </tr>\n",
       "    <tr>\n",
       "      <th>2011-01-07</th>\n",
       "      <td>1225.15</td>\n",
       "      <td>1205.85</td>\n",
       "      <td>1234.0</td>\n",
       "      <td>1200.00</td>\n",
       "      <td>943930</td>\n",
       "      <td>1227.30</td>\n",
       "    </tr>\n",
       "  </tbody>\n",
       "</table>\n",
       "</div>"
      ],
      "text/plain": [
       "               Open    Close    High      Low   Volume  Prev Close\n",
       "Date                                                              \n",
       "2011-01-03  1304.00  1292.80  1304.0  1290.15   514373     1288.20\n",
       "2011-01-04  1295.35  1287.05  1297.4  1284.05   762796     1292.80\n",
       "2011-01-05  1288.90  1266.15  1288.9  1258.00   903513     1287.05\n",
       "2011-01-06  1269.40  1227.30  1270.6  1216.50  1588307     1266.15\n",
       "2011-01-07  1225.15  1205.85  1234.0  1200.00   943930     1227.30"
      ]
     },
     "execution_count": 98,
     "metadata": {},
     "output_type": "execute_result"
    }
   ],
   "source": [
    "data_stock.head()"
   ]
  },
  {
   "cell_type": "markdown",
   "metadata": {},
   "source": [
    "EDA(Exploratory data analysis of stock data)"
   ]
  },
  {
   "cell_type": "code",
   "execution_count": 99,
   "metadata": {},
   "outputs": [
    {
     "data": {
      "text/plain": [
       "<matplotlib.axes._subplots.AxesSubplot at 0x1eb025c7b80>"
      ]
     },
     "execution_count": 99,
     "metadata": {},
     "output_type": "execute_result"
    },
    {
     "data": {
      "image/png": "[encoded data removed]",
      "text/plain": [
       "<Figure size 1080x432 with 1 Axes>"
      ]
     },
     "metadata": {
      "needs_background": "light"
     },
     "output_type": "display_data"
    }
   ],
   "source": [
    "data_stock['Volume'].plot(legend=True,figsize=(15,6))"
   ]
  },
  {
   "cell_type": "code",
   "execution_count": 100,
   "metadata": {},
   "outputs": [
    {
     "data": {
      "text/plain": [
       "<matplotlib.axes._subplots.AxesSubplot at 0x1eb029dfd60>"
      ]
     },
     "execution_count": 100,
     "metadata": {},
     "output_type": "execute_result"
    },
    {
     "data": {
      "image/png": "[encoded data removed]",
      "text/plain": [
       "<Figure size 1080x432 with 1 Axes>"
      ]
     },
     "metadata": {
      "needs_background": "light"
     },
     "output_type": "display_data"
    }
   ],
   "source": [
    "data_stock['Close'].plot(legend=True,figsize=(15,6))"
   ]
  },
  {
   "cell_type": "code",
   "execution_count": 101,
   "metadata": {},
   "outputs": [
    {
     "data": {
      "text/plain": [
       "<matplotlib.axes._subplots.AxesSubplot at 0x1eb019fbf70>"
      ]
     },
     "execution_count": 101,
     "metadata": {},
     "output_type": "execute_result"
    },
    {
     "data": {
      "image/png": "[encoded data removed]",
      "text/plain": [
       "<Figure size 1440x432 with 1 Axes>"
      ]
     },
     "metadata": {
      "needs_background": "light"
     },
     "output_type": "display_data"
    }
   ],
   "source": [
    "##visualizing moving average of closing price over different time intervals\n",
    "columns=[10,50,100]\n",
    "for column in columns:\n",
    "    moving_average=\"moving average for %s days\"%(str(column))\n",
    "    data_stock[moving_average]=data_stock['Close'].rolling(column).mean()\n",
    "data_stock[['moving average for 10 days','moving average for 50 days','moving average for 100 days']].plot(subplots=False,figsize=(20,6))"
   ]
  },
  {
   "cell_type": "code",
   "execution_count": 102,
   "metadata": {},
   "outputs": [],
   "source": [
    "## creating connection with database\n",
    "conn = psycopg2.connect(\"dbname=news_data user=postgres password=postgres\")\n",
    "\n",
    "#loading sql data in a dataframe\n",
    "data_news = psql.read_sql_query('select * from news', conn)\n",
    "data_news=data_news.rename(columns={'date':'Date','headline':'Headline'})"
   ]
  },
  {
   "cell_type": "code",
   "execution_count": 103,
   "metadata": {},
   "outputs": [
    {
     "data": {
      "text/html": [
       "<div>\n",
       "<style scoped>\n",
       "    .dataframe tbody tr th:only-of-type {\n",
       "        vertical-align: middle;\n",
       "    }\n",
       "\n",
       "    .dataframe tbody tr th {\n",
       "        vertical-align: top;\n",
       "    }\n",
       "\n",
       "    .dataframe thead th {\n",
       "        text-align: right;\n",
       "    }\n",
       "</style>\n",
       "<table border=\"1\" class=\"dataframe\">\n",
       "  <thead>\n",
       "    <tr style=\"text-align: right;\">\n",
       "      <th></th>\n",
       "      <th>Date</th>\n",
       "      <th>Headline</th>\n",
       "    </tr>\n",
       "  </thead>\n",
       "  <tbody>\n",
       "    <tr>\n",
       "      <th>0</th>\n",
       "      <td>Feb 02, 2021 04:59 PM IST</td>\n",
       "      <td>Budget 2021: Capital outlay for energy majors ...</td>\n",
       "    </tr>\n",
       "    <tr>\n",
       "      <th>1</th>\n",
       "      <td>Jan 22, 2021 01:48 PM IST</td>\n",
       "      <td>Elon Musk will give away $100 million for this...</td>\n",
       "    </tr>\n",
       "    <tr>\n",
       "      <th>2</th>\n",
       "      <td>Jan 21, 2021 03:54 PM IST</td>\n",
       "      <td>India's crude oil production falls nearly 4% i...</td>\n",
       "    </tr>\n",
       "    <tr>\n",
       "      <th>3</th>\n",
       "      <td>Jan 07, 2021 02:26 PM IST</td>\n",
       "      <td>L&amp;T Hydrocarbon Engineering bags up to Rs 5,00...</td>\n",
       "    </tr>\n",
       "    <tr>\n",
       "      <th>4</th>\n",
       "      <td>Dec 14, 2020 12:04 PM IST</td>\n",
       "      <td>ONGC shares jump 23% in December so far; broke...</td>\n",
       "    </tr>\n",
       "  </tbody>\n",
       "</table>\n",
       "</div>"
      ],
      "text/plain": [
       "                        Date  \\\n",
       "0  Feb 02, 2021 04:59 PM IST   \n",
       "1  Jan 22, 2021 01:48 PM IST   \n",
       "2  Jan 21, 2021 03:54 PM IST   \n",
       "3  Jan 07, 2021 02:26 PM IST   \n",
       "4  Dec 14, 2020 12:04 PM IST   \n",
       "\n",
       "                                            Headline  \n",
       "0  Budget 2021: Capital outlay for energy majors ...  \n",
       "1  Elon Musk will give away $100 million for this...  \n",
       "2  India's crude oil production falls nearly 4% i...  \n",
       "3  L&T Hydrocarbon Engineering bags up to Rs 5,00...  \n",
       "4  ONGC shares jump 23% in December so far; broke...  "
      ]
     },
     "execution_count": 103,
     "metadata": {},
     "output_type": "execute_result"
    }
   ],
   "source": [
    "data_news.head()"
   ]
  },
  {
   "cell_type": "code",
   "execution_count": 104,
   "metadata": {},
   "outputs": [
    {
     "name": "stderr",
     "output_type": "stream",
     "text": [
      "C:\\Users\\siddh\\anaconda3\\lib\\site-packages\\dateutil\\parser\\_parser.py:1213: UnknownTimezoneWarning: tzname IST identified but not understood.  Pass `tzinfos` argument in order to correctly return a timezone-aware datetime.  In a future version, this will raise an exception.\n",
      "  warnings.warn(\"tzname {tzname} identified but not understood.  \"\n"
     ]
    }
   ],
   "source": [
    "## changing Date column to standard datetime format\n",
    "data_news['Date'] = pd.to_datetime(data_news['Date'])\n",
    "\n",
    "## removing time from Date column as it is not required\n",
    "data_news['Date'] = pd.to_datetime(data_news['Date']).dt.date"
   ]
  },
  {
   "cell_type": "code",
   "execution_count": 105,
   "metadata": {},
   "outputs": [
    {
     "data": {
      "text/html": [
       "<div>\n",
       "<style scoped>\n",
       "    .dataframe tbody tr th:only-of-type {\n",
       "        vertical-align: middle;\n",
       "    }\n",
       "\n",
       "    .dataframe tbody tr th {\n",
       "        vertical-align: top;\n",
       "    }\n",
       "\n",
       "    .dataframe thead th {\n",
       "        text-align: right;\n",
       "    }\n",
       "</style>\n",
       "<table border=\"1\" class=\"dataframe\">\n",
       "  <thead>\n",
       "    <tr style=\"text-align: right;\">\n",
       "      <th></th>\n",
       "      <th>Date</th>\n",
       "      <th>Headline</th>\n",
       "    </tr>\n",
       "  </thead>\n",
       "  <tbody>\n",
       "    <tr>\n",
       "      <th>0</th>\n",
       "      <td>2021-02-02</td>\n",
       "      <td>Budget 2021: Capital outlay for energy majors ...</td>\n",
       "    </tr>\n",
       "    <tr>\n",
       "      <th>1</th>\n",
       "      <td>2021-01-22</td>\n",
       "      <td>Elon Musk will give away $100 million for this...</td>\n",
       "    </tr>\n",
       "    <tr>\n",
       "      <th>2</th>\n",
       "      <td>2021-01-21</td>\n",
       "      <td>India's crude oil production falls nearly 4% i...</td>\n",
       "    </tr>\n",
       "    <tr>\n",
       "      <th>3</th>\n",
       "      <td>2021-01-07</td>\n",
       "      <td>L&amp;T Hydrocarbon Engineering bags up to Rs 5,00...</td>\n",
       "    </tr>\n",
       "    <tr>\n",
       "      <th>4</th>\n",
       "      <td>2020-12-14</td>\n",
       "      <td>ONGC shares jump 23% in December so far; broke...</td>\n",
       "    </tr>\n",
       "  </tbody>\n",
       "</table>\n",
       "</div>"
      ],
      "text/plain": [
       "         Date                                           Headline\n",
       "0  2021-02-02  Budget 2021: Capital outlay for energy majors ...\n",
       "1  2021-01-22  Elon Musk will give away $100 million for this...\n",
       "2  2021-01-21  India's crude oil production falls nearly 4% i...\n",
       "3  2021-01-07  L&T Hydrocarbon Engineering bags up to Rs 5,00...\n",
       "4  2020-12-14  ONGC shares jump 23% in December so far; broke..."
      ]
     },
     "execution_count": 105,
     "metadata": {},
     "output_type": "execute_result"
    }
   ],
   "source": [
    "data_news.head()"
   ]
  },
  {
   "cell_type": "code",
   "execution_count": 106,
   "metadata": {},
   "outputs": [],
   "source": [
    "## grouping news headlines with same date\n",
    "data_news = data_news.groupby('Date')['Headline'].apply(''.join).reset_index()"
   ]
  },
  {
   "cell_type": "code",
   "execution_count": 107,
   "metadata": {},
   "outputs": [
    {
     "data": {
      "text/html": [
       "<div>\n",
       "<style scoped>\n",
       "    .dataframe tbody tr th:only-of-type {\n",
       "        vertical-align: middle;\n",
       "    }\n",
       "\n",
       "    .dataframe tbody tr th {\n",
       "        vertical-align: top;\n",
       "    }\n",
       "\n",
       "    .dataframe thead th {\n",
       "        text-align: right;\n",
       "    }\n",
       "</style>\n",
       "<table border=\"1\" class=\"dataframe\">\n",
       "  <thead>\n",
       "    <tr style=\"text-align: right;\">\n",
       "      <th></th>\n",
       "      <th>Date</th>\n",
       "      <th>Headline</th>\n",
       "    </tr>\n",
       "  </thead>\n",
       "  <tbody>\n",
       "    <tr>\n",
       "      <th>0</th>\n",
       "      <td>2011-01-11</td>\n",
       "      <td>IDFC Sec bullish on IT sector, wary of RILGovt...</td>\n",
       "    </tr>\n",
       "    <tr>\n",
       "      <th>1</th>\n",
       "      <td>2011-01-12</td>\n",
       "      <td>ONGC sees funding hurdle for Iran Pars gasRada...</td>\n",
       "    </tr>\n",
       "    <tr>\n",
       "      <th>2</th>\n",
       "      <td>2011-01-13</td>\n",
       "      <td>ONGC makes &amp;#36;150m outstanding payment to Ca...</td>\n",
       "    </tr>\n",
       "    <tr>\n",
       "      <th>3</th>\n",
       "      <td>2011-01-14</td>\n",
       "      <td>ONGC has target of Rs 1225: Rajesh JainBull's ...</td>\n",
       "    </tr>\n",
       "    <tr>\n",
       "      <th>4</th>\n",
       "      <td>2011-01-17</td>\n",
       "      <td>ONGC submits new subsidy sharing proposal to O...</td>\n",
       "    </tr>\n",
       "  </tbody>\n",
       "</table>\n",
       "</div>"
      ],
      "text/plain": [
       "         Date                                           Headline\n",
       "0  2011-01-11  IDFC Sec bullish on IT sector, wary of RILGovt...\n",
       "1  2011-01-12  ONGC sees funding hurdle for Iran Pars gasRada...\n",
       "2  2011-01-13  ONGC makes &#36;150m outstanding payment to Ca...\n",
       "3  2011-01-14  ONGC has target of Rs 1225: Rajesh JainBull's ...\n",
       "4  2011-01-17  ONGC submits new subsidy sharing proposal to O..."
      ]
     },
     "execution_count": 107,
     "metadata": {},
     "output_type": "execute_result"
    }
   ],
   "source": [
    "data_news.head()"
   ]
  },
  {
   "cell_type": "markdown",
   "metadata": {},
   "source": [
    "# Sentiment Analysis"
   ]
  },
  {
   "cell_type": "code",
   "execution_count": 108,
   "metadata": {},
   "outputs": [],
   "source": [
    "##adding words to the vader lexicon in order to improve the performance of the sentiment analyzer\n",
    "\n",
    "new_words = {'falls': -9, 'drops': -9, 'rise': 9, 'increases': 9, 'gain': 9, 'hiked': -9, 'dips': -9, 'declines': -9,\n",
    "             'decline': -9, 'hikes': -9, 'jumps': 9, 'lose': -9, 'profit': 9, 'loss': -9, 'shreds': -9, 'sell': -9, 'buy': 9, \n",
    "            'recession': -9,'rupee weakens': -9, 'record low': -9, 'record high': 9, 'sensex up': 9,'sensex gains': 9,\n",
    "             'nifty down': -9, 'sensex down': -9,'sensex drops': -9, 'nifty up': 9,'sensex slumps': -9,\n",
    "             'recovers':9,'low':-9,'strong debut':9,'setback':-9,'slips':-9,'climbs':9,'above':9,'to invest':9,'hurdle':-9}"
   ]
  },
  {
   "cell_type": "code",
   "execution_count": 109,
   "metadata": {},
   "outputs": [],
   "source": [
    "##creating function to determine sentiment of news headlines(positive, negative or neutral)\n",
    "def sentiment_score(text):\n",
    "    sia=SentimentIntensityAnalyzer()\n",
    "    sia.lexicon.update(new_words)\n",
    "    sentiment=sia.polarity_scores(text)\n",
    "    return sentiment \n",
    "\n",
    "##determining amount of positivity, negativity and neutrality of news headlines\n",
    "neg=[]\n",
    "pos=[]\n",
    "neu=[]\n",
    "SIA=0\n",
    "\n",
    "for i in range(0,len(data_news)):\n",
    "    SIA=sentiment_score(data_news['Headline'][i])\n",
    "    neg.append(SIA['neg'])\n",
    "    pos.append(SIA['pos'])\n",
    "    neu.append(SIA['neu'])\n",
    "\n",
    "data_news['negative']=neg\n",
    "data_news['positive']=pos\n",
    "data_news['neutral']=neu"
   ]
  },
  {
   "cell_type": "code",
   "execution_count": 110,
   "metadata": {},
   "outputs": [
    {
     "data": {
      "text/html": [
       "<div>\n",
       "<style scoped>\n",
       "    .dataframe tbody tr th:only-of-type {\n",
       "        vertical-align: middle;\n",
       "    }\n",
       "\n",
       "    .dataframe tbody tr th {\n",
       "        vertical-align: top;\n",
       "    }\n",
       "\n",
       "    .dataframe thead th {\n",
       "        text-align: right;\n",
       "    }\n",
       "</style>\n",
       "<table border=\"1\" class=\"dataframe\">\n",
       "  <thead>\n",
       "    <tr style=\"text-align: right;\">\n",
       "      <th></th>\n",
       "      <th>Date</th>\n",
       "      <th>Headline</th>\n",
       "      <th>negative</th>\n",
       "      <th>positive</th>\n",
       "      <th>neutral</th>\n",
       "    </tr>\n",
       "  </thead>\n",
       "  <tbody>\n",
       "    <tr>\n",
       "      <th>0</th>\n",
       "      <td>2011-01-11</td>\n",
       "      <td>IDFC Sec bullish on IT sector, wary of RILGovt...</td>\n",
       "      <td>0.103</td>\n",
       "      <td>0.000</td>\n",
       "      <td>0.897</td>\n",
       "    </tr>\n",
       "    <tr>\n",
       "      <th>1</th>\n",
       "      <td>2011-01-12</td>\n",
       "      <td>ONGC sees funding hurdle for Iran Pars gasRada...</td>\n",
       "      <td>0.250</td>\n",
       "      <td>0.264</td>\n",
       "      <td>0.485</td>\n",
       "    </tr>\n",
       "    <tr>\n",
       "      <th>2</th>\n",
       "      <td>2011-01-13</td>\n",
       "      <td>ONGC makes &amp;#36;150m outstanding payment to Ca...</td>\n",
       "      <td>0.000</td>\n",
       "      <td>0.190</td>\n",
       "      <td>0.810</td>\n",
       "    </tr>\n",
       "    <tr>\n",
       "      <th>3</th>\n",
       "      <td>2011-01-14</td>\n",
       "      <td>ONGC has target of Rs 1225: Rajesh JainBull's ...</td>\n",
       "      <td>0.000</td>\n",
       "      <td>0.455</td>\n",
       "      <td>0.545</td>\n",
       "    </tr>\n",
       "    <tr>\n",
       "      <th>4</th>\n",
       "      <td>2011-01-17</td>\n",
       "      <td>ONGC submits new subsidy sharing proposal to O...</td>\n",
       "      <td>0.000</td>\n",
       "      <td>0.259</td>\n",
       "      <td>0.741</td>\n",
       "    </tr>\n",
       "  </tbody>\n",
       "</table>\n",
       "</div>"
      ],
      "text/plain": [
       "         Date                                           Headline  negative  \\\n",
       "0  2011-01-11  IDFC Sec bullish on IT sector, wary of RILGovt...     0.103   \n",
       "1  2011-01-12  ONGC sees funding hurdle for Iran Pars gasRada...     0.250   \n",
       "2  2011-01-13  ONGC makes &#36;150m outstanding payment to Ca...     0.000   \n",
       "3  2011-01-14  ONGC has target of Rs 1225: Rajesh JainBull's ...     0.000   \n",
       "4  2011-01-17  ONGC submits new subsidy sharing proposal to O...     0.000   \n",
       "\n",
       "   positive  neutral  \n",
       "0     0.000    0.897  \n",
       "1     0.264    0.485  \n",
       "2     0.190    0.810  \n",
       "3     0.455    0.545  \n",
       "4     0.259    0.741  "
      ]
     },
     "execution_count": 110,
     "metadata": {},
     "output_type": "execute_result"
    }
   ],
   "source": [
    "data_news.head()"
   ]
  },
  {
   "cell_type": "code",
   "execution_count": 111,
   "metadata": {},
   "outputs": [],
   "source": [
    "data_news.set_index('Date',inplace = True)"
   ]
  },
  {
   "cell_type": "code",
   "execution_count": 112,
   "metadata": {},
   "outputs": [
    {
     "data": {
      "text/html": [
       "<div>\n",
       "<style scoped>\n",
       "    .dataframe tbody tr th:only-of-type {\n",
       "        vertical-align: middle;\n",
       "    }\n",
       "\n",
       "    .dataframe tbody tr th {\n",
       "        vertical-align: top;\n",
       "    }\n",
       "\n",
       "    .dataframe thead th {\n",
       "        text-align: right;\n",
       "    }\n",
       "</style>\n",
       "<table border=\"1\" class=\"dataframe\">\n",
       "  <thead>\n",
       "    <tr style=\"text-align: right;\">\n",
       "      <th></th>\n",
       "      <th>Open</th>\n",
       "      <th>Close</th>\n",
       "      <th>High</th>\n",
       "      <th>Low</th>\n",
       "      <th>Volume</th>\n",
       "      <th>Prev Close</th>\n",
       "      <th>moving average for 10 days</th>\n",
       "      <th>moving average for 50 days</th>\n",
       "      <th>moving average for 100 days</th>\n",
       "      <th>Headline</th>\n",
       "      <th>negative</th>\n",
       "      <th>positive</th>\n",
       "      <th>neutral</th>\n",
       "    </tr>\n",
       "    <tr>\n",
       "      <th>Date</th>\n",
       "      <th></th>\n",
       "      <th></th>\n",
       "      <th></th>\n",
       "      <th></th>\n",
       "      <th></th>\n",
       "      <th></th>\n",
       "      <th></th>\n",
       "      <th></th>\n",
       "      <th></th>\n",
       "      <th></th>\n",
       "      <th></th>\n",
       "      <th></th>\n",
       "      <th></th>\n",
       "    </tr>\n",
       "  </thead>\n",
       "  <tbody>\n",
       "    <tr>\n",
       "      <th>2011-01-11</th>\n",
       "      <td>1177.0</td>\n",
       "      <td>1184.80</td>\n",
       "      <td>1209.5</td>\n",
       "      <td>1170.10</td>\n",
       "      <td>1073175</td>\n",
       "      <td>1174.35</td>\n",
       "      <td>NaN</td>\n",
       "      <td>NaN</td>\n",
       "      <td>NaN</td>\n",
       "      <td>IDFC Sec bullish on IT sector, wary of RILGovt...</td>\n",
       "      <td>0.103</td>\n",
       "      <td>0.000</td>\n",
       "      <td>0.897</td>\n",
       "    </tr>\n",
       "    <tr>\n",
       "      <th>2011-01-12</th>\n",
       "      <td>1190.0</td>\n",
       "      <td>1186.65</td>\n",
       "      <td>1211.0</td>\n",
       "      <td>1148.05</td>\n",
       "      <td>2422840</td>\n",
       "      <td>1184.80</td>\n",
       "      <td>NaN</td>\n",
       "      <td>NaN</td>\n",
       "      <td>NaN</td>\n",
       "      <td>ONGC sees funding hurdle for Iran Pars gasRada...</td>\n",
       "      <td>0.250</td>\n",
       "      <td>0.264</td>\n",
       "      <td>0.485</td>\n",
       "    </tr>\n",
       "    <tr>\n",
       "      <th>2011-01-13</th>\n",
       "      <td>1185.0</td>\n",
       "      <td>1201.50</td>\n",
       "      <td>1208.8</td>\n",
       "      <td>1170.15</td>\n",
       "      <td>1132381</td>\n",
       "      <td>1186.65</td>\n",
       "      <td>NaN</td>\n",
       "      <td>NaN</td>\n",
       "      <td>NaN</td>\n",
       "      <td>ONGC makes &amp;#36;150m outstanding payment to Ca...</td>\n",
       "      <td>0.000</td>\n",
       "      <td>0.190</td>\n",
       "      <td>0.810</td>\n",
       "    </tr>\n",
       "    <tr>\n",
       "      <th>2011-01-14</th>\n",
       "      <td>1207.0</td>\n",
       "      <td>1179.05</td>\n",
       "      <td>1215.0</td>\n",
       "      <td>1172.00</td>\n",
       "      <td>672162</td>\n",
       "      <td>1201.50</td>\n",
       "      <td>1220.55</td>\n",
       "      <td>NaN</td>\n",
       "      <td>NaN</td>\n",
       "      <td>ONGC has target of Rs 1225: Rajesh JainBull's ...</td>\n",
       "      <td>0.000</td>\n",
       "      <td>0.455</td>\n",
       "      <td>0.545</td>\n",
       "    </tr>\n",
       "    <tr>\n",
       "      <th>2011-01-17</th>\n",
       "      <td>1175.1</td>\n",
       "      <td>1170.10</td>\n",
       "      <td>1187.0</td>\n",
       "      <td>1158.25</td>\n",
       "      <td>712925</td>\n",
       "      <td>1179.05</td>\n",
       "      <td>1208.28</td>\n",
       "      <td>NaN</td>\n",
       "      <td>NaN</td>\n",
       "      <td>ONGC submits new subsidy sharing proposal to O...</td>\n",
       "      <td>0.000</td>\n",
       "      <td>0.259</td>\n",
       "      <td>0.741</td>\n",
       "    </tr>\n",
       "  </tbody>\n",
       "</table>\n",
       "</div>"
      ],
      "text/plain": [
       "              Open    Close    High      Low   Volume  Prev Close  \\\n",
       "Date                                                                \n",
       "2011-01-11  1177.0  1184.80  1209.5  1170.10  1073175     1174.35   \n",
       "2011-01-12  1190.0  1186.65  1211.0  1148.05  2422840     1184.80   \n",
       "2011-01-13  1185.0  1201.50  1208.8  1170.15  1132381     1186.65   \n",
       "2011-01-14  1207.0  1179.05  1215.0  1172.00   672162     1201.50   \n",
       "2011-01-17  1175.1  1170.10  1187.0  1158.25   712925     1179.05   \n",
       "\n",
       "            moving average for 10 days  moving average for 50 days  \\\n",
       "Date                                                                 \n",
       "2011-01-11                         NaN                         NaN   \n",
       "2011-01-12                         NaN                         NaN   \n",
       "2011-01-13                         NaN                         NaN   \n",
       "2011-01-14                     1220.55                         NaN   \n",
       "2011-01-17                     1208.28                         NaN   \n",
       "\n",
       "            moving average for 100 days  \\\n",
       "Date                                      \n",
       "2011-01-11                          NaN   \n",
       "2011-01-12                          NaN   \n",
       "2011-01-13                          NaN   \n",
       "2011-01-14                          NaN   \n",
       "2011-01-17                          NaN   \n",
       "\n",
       "                                                     Headline  negative  \\\n",
       "Date                                                                      \n",
       "2011-01-11  IDFC Sec bullish on IT sector, wary of RILGovt...     0.103   \n",
       "2011-01-12  ONGC sees funding hurdle for Iran Pars gasRada...     0.250   \n",
       "2011-01-13  ONGC makes &#36;150m outstanding payment to Ca...     0.000   \n",
       "2011-01-14  ONGC has target of Rs 1225: Rajesh JainBull's ...     0.000   \n",
       "2011-01-17  ONGC submits new subsidy sharing proposal to O...     0.000   \n",
       "\n",
       "            positive  neutral  \n",
       "Date                           \n",
       "2011-01-11     0.000    0.897  \n",
       "2011-01-12     0.264    0.485  \n",
       "2011-01-13     0.190    0.810  \n",
       "2011-01-14     0.455    0.545  \n",
       "2011-01-17     0.259    0.741  "
      ]
     },
     "execution_count": 112,
     "metadata": {},
     "output_type": "execute_result"
    }
   ],
   "source": [
    "## merging both the dataframe on date column\n",
    "data=pd.merge(data_stock, data_news, left_index=True, right_index=True, how='inner' )\n",
    "data.head()"
   ]
  },
  {
   "cell_type": "code",
   "execution_count": 113,
   "metadata": {},
   "outputs": [],
   "source": [
    "data.drop(['moving average for 10 days','moving average for 50 days','moving average for 100 days'],axis=1,inplace=True)"
   ]
  },
  {
   "cell_type": "markdown",
   "metadata": {},
   "source": [
    "# Note\n",
    "instead of using 'Close' and 'Prev Close' as two seperate independent features we can calculate the difference between \n",
    "the two and use it as our target or dependent variable in order to determine whether the stock gained or loss on a particular day"
   ]
  },
  {
   "cell_type": "code",
   "execution_count": 114,
   "metadata": {},
   "outputs": [],
   "source": [
    "data['Rise/Fall']=data['Close']-data['Prev Close']"
   ]
  },
  {
   "cell_type": "code",
   "execution_count": 115,
   "metadata": {},
   "outputs": [
    {
     "data": {
      "text/html": [
       "<div>\n",
       "<style scoped>\n",
       "    .dataframe tbody tr th:only-of-type {\n",
       "        vertical-align: middle;\n",
       "    }\n",
       "\n",
       "    .dataframe tbody tr th {\n",
       "        vertical-align: top;\n",
       "    }\n",
       "\n",
       "    .dataframe thead th {\n",
       "        text-align: right;\n",
       "    }\n",
       "</style>\n",
       "<table border=\"1\" class=\"dataframe\">\n",
       "  <thead>\n",
       "    <tr style=\"text-align: right;\">\n",
       "      <th></th>\n",
       "      <th>Open</th>\n",
       "      <th>Close</th>\n",
       "      <th>High</th>\n",
       "      <th>Low</th>\n",
       "      <th>Volume</th>\n",
       "      <th>Prev Close</th>\n",
       "      <th>Headline</th>\n",
       "      <th>negative</th>\n",
       "      <th>positive</th>\n",
       "      <th>neutral</th>\n",
       "      <th>Rise/Fall</th>\n",
       "    </tr>\n",
       "    <tr>\n",
       "      <th>Date</th>\n",
       "      <th></th>\n",
       "      <th></th>\n",
       "      <th></th>\n",
       "      <th></th>\n",
       "      <th></th>\n",
       "      <th></th>\n",
       "      <th></th>\n",
       "      <th></th>\n",
       "      <th></th>\n",
       "      <th></th>\n",
       "      <th></th>\n",
       "    </tr>\n",
       "  </thead>\n",
       "  <tbody>\n",
       "    <tr>\n",
       "      <th>2011-01-11</th>\n",
       "      <td>1177.0</td>\n",
       "      <td>1184.80</td>\n",
       "      <td>1209.5</td>\n",
       "      <td>1170.10</td>\n",
       "      <td>1073175</td>\n",
       "      <td>1174.35</td>\n",
       "      <td>IDFC Sec bullish on IT sector, wary of RILGovt...</td>\n",
       "      <td>0.103</td>\n",
       "      <td>0.000</td>\n",
       "      <td>0.897</td>\n",
       "      <td>10.45</td>\n",
       "    </tr>\n",
       "    <tr>\n",
       "      <th>2011-01-12</th>\n",
       "      <td>1190.0</td>\n",
       "      <td>1186.65</td>\n",
       "      <td>1211.0</td>\n",
       "      <td>1148.05</td>\n",
       "      <td>2422840</td>\n",
       "      <td>1184.80</td>\n",
       "      <td>ONGC sees funding hurdle for Iran Pars gasRada...</td>\n",
       "      <td>0.250</td>\n",
       "      <td>0.264</td>\n",
       "      <td>0.485</td>\n",
       "      <td>1.85</td>\n",
       "    </tr>\n",
       "    <tr>\n",
       "      <th>2011-01-13</th>\n",
       "      <td>1185.0</td>\n",
       "      <td>1201.50</td>\n",
       "      <td>1208.8</td>\n",
       "      <td>1170.15</td>\n",
       "      <td>1132381</td>\n",
       "      <td>1186.65</td>\n",
       "      <td>ONGC makes &amp;#36;150m outstanding payment to Ca...</td>\n",
       "      <td>0.000</td>\n",
       "      <td>0.190</td>\n",
       "      <td>0.810</td>\n",
       "      <td>14.85</td>\n",
       "    </tr>\n",
       "    <tr>\n",
       "      <th>2011-01-14</th>\n",
       "      <td>1207.0</td>\n",
       "      <td>1179.05</td>\n",
       "      <td>1215.0</td>\n",
       "      <td>1172.00</td>\n",
       "      <td>672162</td>\n",
       "      <td>1201.50</td>\n",
       "      <td>ONGC has target of Rs 1225: Rajesh JainBull's ...</td>\n",
       "      <td>0.000</td>\n",
       "      <td>0.455</td>\n",
       "      <td>0.545</td>\n",
       "      <td>-22.45</td>\n",
       "    </tr>\n",
       "    <tr>\n",
       "      <th>2011-01-17</th>\n",
       "      <td>1175.1</td>\n",
       "      <td>1170.10</td>\n",
       "      <td>1187.0</td>\n",
       "      <td>1158.25</td>\n",
       "      <td>712925</td>\n",
       "      <td>1179.05</td>\n",
       "      <td>ONGC submits new subsidy sharing proposal to O...</td>\n",
       "      <td>0.000</td>\n",
       "      <td>0.259</td>\n",
       "      <td>0.741</td>\n",
       "      <td>-8.95</td>\n",
       "    </tr>\n",
       "  </tbody>\n",
       "</table>\n",
       "</div>"
      ],
      "text/plain": [
       "              Open    Close    High      Low   Volume  Prev Close  \\\n",
       "Date                                                                \n",
       "2011-01-11  1177.0  1184.80  1209.5  1170.10  1073175     1174.35   \n",
       "2011-01-12  1190.0  1186.65  1211.0  1148.05  2422840     1184.80   \n",
       "2011-01-13  1185.0  1201.50  1208.8  1170.15  1132381     1186.65   \n",
       "2011-01-14  1207.0  1179.05  1215.0  1172.00   672162     1201.50   \n",
       "2011-01-17  1175.1  1170.10  1187.0  1158.25   712925     1179.05   \n",
       "\n",
       "                                                     Headline  negative  \\\n",
       "Date                                                                      \n",
       "2011-01-11  IDFC Sec bullish on IT sector, wary of RILGovt...     0.103   \n",
       "2011-01-12  ONGC sees funding hurdle for Iran Pars gasRada...     0.250   \n",
       "2011-01-13  ONGC makes &#36;150m outstanding payment to Ca...     0.000   \n",
       "2011-01-14  ONGC has target of Rs 1225: Rajesh JainBull's ...     0.000   \n",
       "2011-01-17  ONGC submits new subsidy sharing proposal to O...     0.000   \n",
       "\n",
       "            positive  neutral  Rise/Fall  \n",
       "Date                                      \n",
       "2011-01-11     0.000    0.897      10.45  \n",
       "2011-01-12     0.264    0.485       1.85  \n",
       "2011-01-13     0.190    0.810      14.85  \n",
       "2011-01-14     0.455    0.545     -22.45  \n",
       "2011-01-17     0.259    0.741      -8.95  "
      ]
     },
     "execution_count": 115,
     "metadata": {},
     "output_type": "execute_result"
    }
   ],
   "source": [
    "data.head()"
   ]
  },
  {
   "cell_type": "code",
   "execution_count": 116,
   "metadata": {},
   "outputs": [],
   "source": [
    "data.reset_index(drop=True, inplace=True)"
   ]
  },
  {
   "cell_type": "code",
   "execution_count": 117,
   "metadata": {},
   "outputs": [],
   "source": [
    "##changing the target column to categorical feature by replacing positive values by 1 and negative values by -1.\n",
    "value=[]\n",
    "for i in range(0,len(data)):\n",
    "    if data['Rise/Fall'][i]>=0:\n",
    "        value.append(1)\n",
    "    else:\n",
    "        value.append(-1)\n",
    "\n",
    "data['Rise/Fall']=value              "
   ]
  },
  {
   "cell_type": "code",
   "execution_count": 118,
   "metadata": {},
   "outputs": [
    {
     "data": {
      "text/html": [
       "<div>\n",
       "<style scoped>\n",
       "    .dataframe tbody tr th:only-of-type {\n",
       "        vertical-align: middle;\n",
       "    }\n",
       "\n",
       "    .dataframe tbody tr th {\n",
       "        vertical-align: top;\n",
       "    }\n",
       "\n",
       "    .dataframe thead th {\n",
       "        text-align: right;\n",
       "    }\n",
       "</style>\n",
       "<table border=\"1\" class=\"dataframe\">\n",
       "  <thead>\n",
       "    <tr style=\"text-align: right;\">\n",
       "      <th></th>\n",
       "      <th>Open</th>\n",
       "      <th>Close</th>\n",
       "      <th>High</th>\n",
       "      <th>Low</th>\n",
       "      <th>Volume</th>\n",
       "      <th>Prev Close</th>\n",
       "      <th>Headline</th>\n",
       "      <th>negative</th>\n",
       "      <th>positive</th>\n",
       "      <th>neutral</th>\n",
       "      <th>Rise/Fall</th>\n",
       "    </tr>\n",
       "  </thead>\n",
       "  <tbody>\n",
       "    <tr>\n",
       "      <th>0</th>\n",
       "      <td>1177.0</td>\n",
       "      <td>1184.80</td>\n",
       "      <td>1209.5</td>\n",
       "      <td>1170.10</td>\n",
       "      <td>1073175</td>\n",
       "      <td>1174.35</td>\n",
       "      <td>IDFC Sec bullish on IT sector, wary of RILGovt...</td>\n",
       "      <td>0.103</td>\n",
       "      <td>0.000</td>\n",
       "      <td>0.897</td>\n",
       "      <td>1</td>\n",
       "    </tr>\n",
       "    <tr>\n",
       "      <th>1</th>\n",
       "      <td>1190.0</td>\n",
       "      <td>1186.65</td>\n",
       "      <td>1211.0</td>\n",
       "      <td>1148.05</td>\n",
       "      <td>2422840</td>\n",
       "      <td>1184.80</td>\n",
       "      <td>ONGC sees funding hurdle for Iran Pars gasRada...</td>\n",
       "      <td>0.250</td>\n",
       "      <td>0.264</td>\n",
       "      <td>0.485</td>\n",
       "      <td>1</td>\n",
       "    </tr>\n",
       "    <tr>\n",
       "      <th>2</th>\n",
       "      <td>1185.0</td>\n",
       "      <td>1201.50</td>\n",
       "      <td>1208.8</td>\n",
       "      <td>1170.15</td>\n",
       "      <td>1132381</td>\n",
       "      <td>1186.65</td>\n",
       "      <td>ONGC makes &amp;#36;150m outstanding payment to Ca...</td>\n",
       "      <td>0.000</td>\n",
       "      <td>0.190</td>\n",
       "      <td>0.810</td>\n",
       "      <td>1</td>\n",
       "    </tr>\n",
       "    <tr>\n",
       "      <th>3</th>\n",
       "      <td>1207.0</td>\n",
       "      <td>1179.05</td>\n",
       "      <td>1215.0</td>\n",
       "      <td>1172.00</td>\n",
       "      <td>672162</td>\n",
       "      <td>1201.50</td>\n",
       "      <td>ONGC has target of Rs 1225: Rajesh JainBull's ...</td>\n",
       "      <td>0.000</td>\n",
       "      <td>0.455</td>\n",
       "      <td>0.545</td>\n",
       "      <td>-1</td>\n",
       "    </tr>\n",
       "    <tr>\n",
       "      <th>4</th>\n",
       "      <td>1175.1</td>\n",
       "      <td>1170.10</td>\n",
       "      <td>1187.0</td>\n",
       "      <td>1158.25</td>\n",
       "      <td>712925</td>\n",
       "      <td>1179.05</td>\n",
       "      <td>ONGC submits new subsidy sharing proposal to O...</td>\n",
       "      <td>0.000</td>\n",
       "      <td>0.259</td>\n",
       "      <td>0.741</td>\n",
       "      <td>-1</td>\n",
       "    </tr>\n",
       "  </tbody>\n",
       "</table>\n",
       "</div>"
      ],
      "text/plain": [
       "     Open    Close    High      Low   Volume  Prev Close  \\\n",
       "0  1177.0  1184.80  1209.5  1170.10  1073175     1174.35   \n",
       "1  1190.0  1186.65  1211.0  1148.05  2422840     1184.80   \n",
       "2  1185.0  1201.50  1208.8  1170.15  1132381     1186.65   \n",
       "3  1207.0  1179.05  1215.0  1172.00   672162     1201.50   \n",
       "4  1175.1  1170.10  1187.0  1158.25   712925     1179.05   \n",
       "\n",
       "                                            Headline  negative  positive  \\\n",
       "0  IDFC Sec bullish on IT sector, wary of RILGovt...     0.103     0.000   \n",
       "1  ONGC sees funding hurdle for Iran Pars gasRada...     0.250     0.264   \n",
       "2  ONGC makes &#36;150m outstanding payment to Ca...     0.000     0.190   \n",
       "3  ONGC has target of Rs 1225: Rajesh JainBull's ...     0.000     0.455   \n",
       "4  ONGC submits new subsidy sharing proposal to O...     0.000     0.259   \n",
       "\n",
       "   neutral  Rise/Fall  \n",
       "0    0.897          1  \n",
       "1    0.485          1  \n",
       "2    0.810          1  \n",
       "3    0.545         -1  \n",
       "4    0.741         -1  "
      ]
     },
     "execution_count": 118,
     "metadata": {},
     "output_type": "execute_result"
    }
   ],
   "source": [
    "data.head()"
   ]
  },
  {
   "cell_type": "code",
   "execution_count": 119,
   "metadata": {},
   "outputs": [
    {
     "data": {
      "text/plain": [
       " 1    562\n",
       "-1    558\n",
       "Name: Rise/Fall, dtype: int64"
      ]
     },
     "execution_count": 119,
     "metadata": {},
     "output_type": "execute_result"
    }
   ],
   "source": [
    "##checking value count of target column to ensure that dataset is not imbalanced. \n",
    "data['Rise/Fall'].value_counts()"
   ]
  },
  {
   "cell_type": "code",
   "execution_count": 120,
   "metadata": {},
   "outputs": [],
   "source": [
    "##dropping unnecessary columns from dataset\n",
    "data.drop(['Prev Close','Close','Headline'],inplace=True,axis=1)"
   ]
  },
  {
   "cell_type": "code",
   "execution_count": 121,
   "metadata": {},
   "outputs": [],
   "source": [
    "##feature scaling\n",
    "scaler=MinMaxScaler()\n",
    "data[['Open','High','Volume','Low']]=scaler.fit_transform(data[['Open','High','Volume','Low']])"
   ]
  },
  {
   "cell_type": "code",
   "execution_count": 122,
   "metadata": {},
   "outputs": [
    {
     "data": {
      "text/html": [
       "<div>\n",
       "<style scoped>\n",
       "    .dataframe tbody tr th:only-of-type {\n",
       "        vertical-align: middle;\n",
       "    }\n",
       "\n",
       "    .dataframe tbody tr th {\n",
       "        vertical-align: top;\n",
       "    }\n",
       "\n",
       "    .dataframe thead th {\n",
       "        text-align: right;\n",
       "    }\n",
       "</style>\n",
       "<table border=\"1\" class=\"dataframe\">\n",
       "  <thead>\n",
       "    <tr style=\"text-align: right;\">\n",
       "      <th></th>\n",
       "      <th>Open</th>\n",
       "      <th>High</th>\n",
       "      <th>Low</th>\n",
       "      <th>Volume</th>\n",
       "      <th>negative</th>\n",
       "      <th>positive</th>\n",
       "      <th>neutral</th>\n",
       "      <th>Rise/Fall</th>\n",
       "    </tr>\n",
       "  </thead>\n",
       "  <tbody>\n",
       "    <tr>\n",
       "      <th>0</th>\n",
       "      <td>0.973820</td>\n",
       "      <td>0.979789</td>\n",
       "      <td>0.982395</td>\n",
       "      <td>0.007542</td>\n",
       "      <td>0.103</td>\n",
       "      <td>0.000</td>\n",
       "      <td>0.897</td>\n",
       "      <td>1</td>\n",
       "    </tr>\n",
       "    <tr>\n",
       "      <th>1</th>\n",
       "      <td>0.985164</td>\n",
       "      <td>0.981071</td>\n",
       "      <td>0.962888</td>\n",
       "      <td>0.017599</td>\n",
       "      <td>0.250</td>\n",
       "      <td>0.264</td>\n",
       "      <td>0.485</td>\n",
       "      <td>1</td>\n",
       "    </tr>\n",
       "    <tr>\n",
       "      <th>2</th>\n",
       "      <td>0.980801</td>\n",
       "      <td>0.979191</td>\n",
       "      <td>0.982439</td>\n",
       "      <td>0.007983</td>\n",
       "      <td>0.000</td>\n",
       "      <td>0.190</td>\n",
       "      <td>0.810</td>\n",
       "      <td>1</td>\n",
       "    </tr>\n",
       "    <tr>\n",
       "      <th>3</th>\n",
       "      <td>1.000000</td>\n",
       "      <td>0.984489</td>\n",
       "      <td>0.984076</td>\n",
       "      <td>0.004554</td>\n",
       "      <td>0.000</td>\n",
       "      <td>0.455</td>\n",
       "      <td>0.545</td>\n",
       "      <td>-1</td>\n",
       "    </tr>\n",
       "    <tr>\n",
       "      <th>4</th>\n",
       "      <td>0.972162</td>\n",
       "      <td>0.960561</td>\n",
       "      <td>0.971911</td>\n",
       "      <td>0.004858</td>\n",
       "      <td>0.000</td>\n",
       "      <td>0.259</td>\n",
       "      <td>0.741</td>\n",
       "      <td>-1</td>\n",
       "    </tr>\n",
       "  </tbody>\n",
       "</table>\n",
       "</div>"
      ],
      "text/plain": [
       "       Open      High       Low    Volume  negative  positive  neutral  \\\n",
       "0  0.973820  0.979789  0.982395  0.007542     0.103     0.000    0.897   \n",
       "1  0.985164  0.981071  0.962888  0.017599     0.250     0.264    0.485   \n",
       "2  0.980801  0.979191  0.982439  0.007983     0.000     0.190    0.810   \n",
       "3  1.000000  0.984489  0.984076  0.004554     0.000     0.455    0.545   \n",
       "4  0.972162  0.960561  0.971911  0.004858     0.000     0.259    0.741   \n",
       "\n",
       "   Rise/Fall  \n",
       "0          1  \n",
       "1          1  \n",
       "2          1  \n",
       "3         -1  \n",
       "4         -1  "
      ]
     },
     "execution_count": 122,
     "metadata": {},
     "output_type": "execute_result"
    }
   ],
   "source": [
    "#final dataset\n",
    "data.head()"
   ]
  },
  {
   "cell_type": "code",
   "execution_count": 123,
   "metadata": {},
   "outputs": [],
   "source": [
    "##splitting data into train and test sets\n",
    "X_train,X_test,y_train,y_test=train_test_split(data.drop('Rise/Fall', axis=1), data['Rise/Fall'], test_size=0.2, random_state=0)"
   ]
  },
  {
   "cell_type": "code",
   "execution_count": 124,
   "metadata": {},
   "outputs": [
    {
     "data": {
      "text/plain": [
       "SVC()"
      ]
     },
     "execution_count": 124,
     "metadata": {},
     "output_type": "execute_result"
    }
   ],
   "source": [
    "##baseline model evaluation\n",
    "model=SVC()\n",
    "model.fit(X_train,y_train)"
   ]
  },
  {
   "cell_type": "code",
   "execution_count": 125,
   "metadata": {},
   "outputs": [
    {
     "data": {
      "text/plain": [
       "0.5535714285714286"
      ]
     },
     "execution_count": 125,
     "metadata": {},
     "output_type": "execute_result"
    }
   ],
   "source": [
    "##calculating accuracy of baseline model\n",
    "prediction_2=model.predict(X_test)\n",
    "accuracy=accuracy_score(prediction_2,y_test)\n",
    "accuracy"
   ]
  },
  {
   "cell_type": "code",
   "execution_count": 126,
   "metadata": {},
   "outputs": [],
   "source": [
    "##hyperparameter tuning\n",
    "parameters={'degree':[1,2,3,4],\n",
    "            'C':[10,20,30,40],\n",
    "           'kernel':['poly']}\n",
    "model_1=GridSearchCV(estimator=model,param_grid=parameters,cv=3,n_jobs=-1)"
   ]
  },
  {
   "cell_type": "code",
   "execution_count": 127,
   "metadata": {},
   "outputs": [
    {
     "data": {
      "text/plain": [
       "{'C': 30, 'degree': 4, 'kernel': 'poly'}"
      ]
     },
     "execution_count": 127,
     "metadata": {},
     "output_type": "execute_result"
    }
   ],
   "source": [
    "##determining best paramaeters for model\n",
    "model_1.fit(X_train,y_train)\n",
    "model_1.best_params_"
   ]
  },
  {
   "cell_type": "code",
   "execution_count": 128,
   "metadata": {},
   "outputs": [
    {
     "data": {
      "text/plain": [
       "SVC(C=30, degree=4, kernel='poly')"
      ]
     },
     "execution_count": 128,
     "metadata": {},
     "output_type": "execute_result"
    }
   ],
   "source": [
    "model=SVC(C=30, degree= 4, kernel= 'poly')\n",
    "model.fit(X_train,y_train)"
   ]
  },
  {
   "cell_type": "code",
   "execution_count": 129,
   "metadata": {},
   "outputs": [
    {
     "data": {
      "text/plain": [
       "0.7544642857142857"
      ]
     },
     "execution_count": 129,
     "metadata": {},
     "output_type": "execute_result"
    }
   ],
   "source": [
    "##accuracy after hyperparameter tuning \n",
    "prediction_3=model.predict(X_test)\n",
    "accuracy=accuracy_score(prediction_3,y_test)\n",
    "accuracy"
   ]
  },
  {
   "cell_type": "markdown",
   "metadata": {},
   "source": [
    "## Note\n",
    "the efficiency of the model is low and can be further improved by adding more data to the database over time. "
   ]
  }
 ],
 "metadata": {
  "kernelspec": {
   "display_name": "Python 3",
   "language": "python",
   "name": "python3"
  },
  "language_info": {
   "codemirror_mode": {
    "name": "ipython",
    "version": 3
   },
   "file_extension": ".py",
   "mimetype": "text/x-python",
   "name": "python",
   "nbconvert_exporter": "python",
   "pygments_lexer": "ipython3",
   "version": "3.8.3"
  }
 },
 "nbformat": 4,
 "nbformat_minor": 4
}
